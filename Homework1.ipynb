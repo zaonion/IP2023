{
 "cells": [
  {
   "cell_type": "markdown",
   "metadata": {},
   "source": [
    "ackbar, color chanel, text, box selection \n",
    "아무 그림에 드래그하면 빨간 투명한 사각바 만들어지기\n",
    "마우치 위도 나와야함"
   ]
  },
  {
   "cell_type": "code",
   "execution_count": 2,
   "metadata": {},
   "outputs": [
    {
     "name": "stdout",
     "output_type": "stream",
     "text": [
      "['EVENT_FLAG_ALTKEY', 'EVENT_FLAG_CTRLKEY', 'EVENT_FLAG_LBUTTON', 'EVENT_FLAG_MBUTTON', 'EVENT_FLAG_RBUTTON', 'EVENT_FLAG_SHIFTKEY', 'EVENT_LBUTTONDBLCLK', 'EVENT_LBUTTONDOWN', 'EVENT_LBUTTONUP', 'EVENT_MBUTTONDBLCLK', 'EVENT_MBUTTONDOWN', 'EVENT_MBUTTONUP', 'EVENT_MOUSEHWHEEL', 'EVENT_MOUSEMOVE', 'EVENT_MOUSEWHEEL', 'EVENT_RBUTTONDBLCLK', 'EVENT_RBUTTONDOWN', 'EVENT_RBUTTONUP']\n"
     ]
    },
    {
     "ename": "KeyboardInterrupt",
     "evalue": "",
     "output_type": "error",
     "traceback": [
      "\u001b[0;31m---------------------------------------------------------------------------\u001b[0m",
      "\u001b[0;31mKeyboardInterrupt\u001b[0m                         Traceback (most recent call last)",
      "\u001b[1;32m/Users/zaonion/IP2023/Homework1.ipynb 셀 2\u001b[0m line \u001b[0;36m3\n\u001b[1;32m     <a href='vscode-notebook-cell:/Users/zaonion/IP2023/Homework1.ipynb#W1sZmlsZQ%3D%3D?line=31'>32</a>\u001b[0m \u001b[39mwhile\u001b[39;00m \u001b[39mTrue\u001b[39;00m:\n\u001b[1;32m     <a href='vscode-notebook-cell:/Users/zaonion/IP2023/Homework1.ipynb#W1sZmlsZQ%3D%3D?line=32'>33</a>\u001b[0m     cv2\u001b[39m.\u001b[39mimshow(\u001b[39m'\u001b[39m\u001b[39mimage\u001b[39m\u001b[39m'\u001b[39m, img)    \n\u001b[0;32m---> <a href='vscode-notebook-cell:/Users/zaonion/IP2023/Homework1.ipynb#W1sZmlsZQ%3D%3D?line=33'>34</a>\u001b[0m     k \u001b[39m=\u001b[39m cv2\u001b[39m.\u001b[39mwaitKey(\u001b[39m1\u001b[39m) \u001b[39m&\u001b[39m \u001b[39m0xFF\u001b[39m   \n\u001b[1;32m     <a href='vscode-notebook-cell:/Users/zaonion/IP2023/Homework1.ipynb#W1sZmlsZQ%3D%3D?line=35'>36</a>\u001b[0m     \u001b[39mif\u001b[39;00m k \u001b[39m==\u001b[39m \u001b[39m27\u001b[39m:               \n\u001b[1;32m     <a href='vscode-notebook-cell:/Users/zaonion/IP2023/Homework1.ipynb#W1sZmlsZQ%3D%3D?line=36'>37</a>\u001b[0m         \u001b[39mbreak\u001b[39;00m\n",
      "\u001b[0;31mKeyboardInterrupt\u001b[0m: "
     ]
    },
    {
     "ename": "",
     "evalue": "",
     "output_type": "error",
     "traceback": [
      "\u001b[1;31m현재 셀 또는 이전 셀에서 코드를 실행하는 동안 Kernel이 충돌했습니다. 셀의 코드를 검토하여 오류의 가능한 원인을 식별하세요. 자세한 내용을 보려면 <a href='https://aka.ms/vscodeJupyterKernelCrash'> 여기 </a> 를 클릭하세요. 자세한 내용은 Jupyter <a href='command:jupyter.viewOutput'>로그</a>를 참조하세요."
     ]
    }
   ],
   "source": [
    "import cv2\n",
    "import numpy as np \n",
    "\n",
    "events = [i for i in dir(cv2) if 'EVENT' in i]\n",
    "print(events)\n",
    "\n",
    "click = False     \n",
    "x1,y1 = -1,-1\n",
    "\n",
    "def draw_rectangle(event, x, y, flags, param):\n",
    "    global x1,y1, click                                 \n",
    "\n",
    "    if event == cv2.EVENT_LBUTTONDOWN:                      \n",
    "        click = True \n",
    "        x1, y1 = x,y\n",
    "        print(\"사각형의 왼쪽위 설정 : (\" + str(x1) + \", \" + str(y1) + \")\")\n",
    "\t\t\n",
    "    elif event == cv2.EVENT_MOUSEMOVE:                      \n",
    "        if click == True:                                   \n",
    "            cv2.rectangle(img,(x1,y1),(x,y),(0,0,255),-1)\n",
    "            print(\"(\" + str(x1) + \", \" + str(y1) + \"), (\" + str(x) + \", \" + str(y) + \")\")\n",
    "\n",
    "    elif event == cv2.EVENT_LBUTTONUP:\n",
    "        click = False;                                     \n",
    "        cv2.rectangle(img,(x1,y1),(x,y),(0,0,255),-1)\n",
    "\n",
    "img = np.zeros((500,500,3), np.uint8)\n",
    "img = cv2.imread('image.png')\n",
    "cv2.namedWindow('image')\n",
    "cv2.setMouseCallback('image',draw_rectangle)               \n",
    "\n",
    "while True:\n",
    "    cv2.imshow('image', img)    \n",
    "    k = cv2.waitKey(1) & 0xFF   \n",
    "        \n",
    "    if k == 27:               \n",
    "        break\n",
    "    \n",
    "def on_level_change(pos):\n",
    "    global img \n",
    "\n",
    "    value = pos * 16 \n",
    "    \n",
    "    if value >= 255:\n",
    "        value = 255\n",
    "\n",
    "    img[:] = value\n",
    "    cv2.imshow('image', img)\n",
    "\n",
    "\n",
    "img = np.zeros((480, 640), np.uint8)\n",
    "cv2.namedWindow('image')\n",
    "\n",
    "cv2.createTrackbar('value', 'image', 0, 16, on_level_change)\n",
    "\n",
    "cv2.imshow('image', img)\n",
    "cv2.destroyAllWindows()\n",
    "    \n"
   ]
  }
 ],
 "metadata": {
  "kernelspec": {
   "display_name": "Python 3 (ipykernel)",
   "language": "python",
   "name": "python3"
  },
  "language_info": {
   "codemirror_mode": {
    "name": "ipython",
    "version": 3
   },
   "file_extension": ".py",
   "mimetype": "text/x-python",
   "name": "python",
   "nbconvert_exporter": "python",
   "pygments_lexer": "ipython3",
   "version": "3.11.5"
  }
 },
 "nbformat": 4,
 "nbformat_minor": 4
}
